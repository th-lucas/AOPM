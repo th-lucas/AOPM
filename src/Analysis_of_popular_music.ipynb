{
 "cells": [
  {
   "cell_type": "markdown",
   "metadata": {},
   "source": [
    "# Analysis of the popular music of the last 55 years"
   ]
  },
  {
   "cell_type": "markdown",
   "metadata": {},
   "source": [
    "### Data Wrangling"
   ]
  },
  {
   "cell_type": "markdown",
   "metadata": {},
   "source": [
    "##### Imports - API settings - Constants definition"
   ]
  },
  {
   "cell_type": "code",
   "execution_count": 1,
   "metadata": {
    "collapsed": false
   },
   "outputs": [],
   "source": [
    "import pandas as pd\n",
    "import matplotlib.pyplot as plt \n",
    "%matplotlib inline\n",
    "import scipy.stats as sstats\n",
    "\n",
    "# EchoNest API\n",
    "from pyechonest import config\n",
    "from pyechonest import song\n",
    "from pyechonest import artist\n",
    "\n",
    "# LastFM API\n",
    "import pylast\n",
    "\n",
    "# Geopy\n",
    "from geopy.geocoders import Nominatim\n",
    "\n",
    "# Functions used in this notebook\n",
    "import dataStoryFunctions as dsf"
   ]
  },
  {
   "cell_type": "code",
   "execution_count": 2,
   "metadata": {
    "collapsed": false
   },
   "outputs": [],
   "source": [
    "# Loads the credentials from the yaml file\n",
    "secrets = dsf.load_secrets()\n",
    "\n",
    "# Set ECHO_NEST_API_KEY value\n",
    "config.ECHO_NEST_API_KEY = secrets[\"echonest_api_key\"]\n",
    "\n",
    "# Set LastFM API_KEY and API_SECRET\n",
    "# Obtain yours from http://www.last.fm/api/account for Last.fm\n",
    "API_KEY = secrets[\"lastfm_api_key\"]\n",
    "API_SECRET = secrets[\"lastfm_api_secret\"]\n",
    "\n",
    "# In order to perform a write operation you need to authenticate yourself\n",
    "username = secrets[\"lastfm_username\"]\n",
    "password_hash = pylast.md5(secrets[\"lastfm_password_hash\"])\n",
    "\n",
    "last_fm_network = pylast.LastFMNetwork(api_key = API_KEY, api_secret =\n",
    "    API_SECRET, username = username, password_hash = password_hash)"
   ]
  },
  {
   "cell_type": "code",
   "execution_count": 3,
   "metadata": {
    "collapsed": true
   },
   "outputs": [],
   "source": [
    "# Define the starting and ending years \n",
    "start_year = 1960\n",
    "end_year = 2015"
   ]
  },
  {
   "cell_type": "markdown",
   "metadata": {},
   "source": [
    "##### Original dataframe creation\n",
    "\n",
    "The next steps take a lot of time to complete and have been done in the data processing and cleaning process.\n",
    "\n",
    "The final dataframe has been completed manually for the remaining missing data."
   ]
  },
  {
   "cell_type": "code",
   "execution_count": 6,
   "metadata": {
    "collapsed": true
   },
   "outputs": [],
   "source": [
    "# Creation of the global dataframe\n",
    "\n",
    "# billboard_df = dsf.create_billboard_df_from_CSV(start_year, years)\n",
    "# s = billboard_df['Title'].str.split('\" / \"').apply(pd.Series, 1).stack()\n",
    "# s.index = s.index.droplevel(-1)\n",
    "# s.name = 'Title'\n",
    "# del billboard_df['Title']\n",
    "# billboard_df = billboard_df.join(s)\n",
    "# billboard_df = billboard_df[['Num', 'Artist(s)', 'Title', 'Year']] "
   ]
  },
  {
   "cell_type": "code",
   "execution_count": 7,
   "metadata": {
    "collapsed": true
   },
   "outputs": [],
   "source": [
    "# Addition of new characteristics to the dataframe (artist location, audio summary...)\n",
    "\n",
    "# billboard_df_final = dsf.add_songs_characteristics_to_df(billboard_df, \n",
    "#                                                        'CSV_data/billboard_df-final.csv')"
   ]
  },
  {
   "cell_type": "markdown",
   "metadata": {},
   "source": [
    "The final dataframe has been built using the previous commands and completed manually in Excel. Everything has been saved in a CSV file which will be loaded in a pandas dataframe."
   ]
  },
  {
   "cell_type": "code",
   "execution_count": 10,
   "metadata": {
    "collapsed": false
   },
   "outputs": [],
   "source": [
    "billboard_df_final = pd.read_csv('CSV_data/billboard_df-final.csv', sep=';')\n",
    "del billboard_df_final['Colonne1']"
   ]
  },
  {
   "cell_type": "markdown",
   "metadata": {},
   "source": [
    "The country of origin of each artist is added at the end of every row of the dataframe. This will be used in one of the charts in the study."
   ]
  },
  {
   "cell_type": "code",
   "execution_count": 11,
   "metadata": {
    "collapsed": true
   },
   "outputs": [],
   "source": [
    "billboard_df_final = dsf.add_Track_Country_Of_Origin_To_DF(billboard_df_final)"
   ]
  },
  {
   "cell_type": "markdown",
   "metadata": {},
   "source": [
    "As the data as already been generated, you can skip all the previous step and directly build the final dataframe from the CSV file."
   ]
  },
  {
   "cell_type": "code",
   "execution_count": 8,
   "metadata": {
    "collapsed": true
   },
   "outputs": [],
   "source": [
    "#billboard_df_final = pd.read_csv('CSV_data/billboard_df-final.csv')\n",
    "#del billboard_df_final['Unnamed: 0']"
   ]
  },
  {
   "cell_type": "markdown",
   "metadata": {},
   "source": [
    "##### Number of songs by artists in the Billboard Hot 100 year-end\n",
    "\n",
    "The methodology used to create this dataframe is explained in the article related to the project."
   ]
  },
  {
   "cell_type": "code",
   "execution_count": 56,
   "metadata": {
    "collapsed": true
   },
   "outputs": [],
   "source": [
    "unique_artist_df = dsf.create_entries_by_unique_artist(billboard_df_final,\n",
    "                                                       start_year, end_year)"
   ]
  },
  {
   "cell_type": "markdown",
   "metadata": {},
   "source": [
    "Finally, we add one last feature to the dataframe groupping the number of tracks by artist. This feature is the dominance of the artist on given period. This is calculated by summing the number of tracks ranked in the charts for one particular artist during n years and dividing that number by the total number of tracks in the Billboard Hot 100 during those n years.\n",
    "\n",
    "In this study we have chosen to use rolling periods of 3 years."
   ]
  },
  {
   "cell_type": "code",
   "execution_count": 57,
   "metadata": {
    "collapsed": false
   },
   "outputs": [],
   "source": [
    "unique_artist_df = dsf.get_most_dominant_artist_per_years(unique_artist_df, start_year,\n",
    "                                                          end_year, 3, 1)"
   ]
  },
  {
   "cell_type": "markdown",
   "metadata": {},
   "source": [
    "For visualization purposes, we add an image of the artist to the dataframe (this is a url returned by the last fm API)."
   ]
  },
  {
   "cell_type": "code",
   "execution_count": 29,
   "metadata": {
    "collapsed": false
   },
   "outputs": [],
   "source": [
    "unique_artist_df = dsf.add_image_url_to_artist_count_df(unique_artist_df, last_fm_network)"
   ]
  },
  {
   "cell_type": "markdown",
   "metadata": {},
   "source": [
    "2 additional features are also added to the previous dataframe:\n",
    "- the artist 'hotttnesss'\n",
    "- the artist 'familiarity'"
   ]
  },
  {
   "cell_type": "code",
   "execution_count": 32,
   "metadata": {
    "collapsed": false
   },
   "outputs": [],
   "source": [
    "unique_artist_df = dsf.add_items_to_billboard_df_artist_count(unique_artist_df,\n",
    "                                                              [\"familiarity\", \"hotttnesss\"])"
   ]
  },
  {
   "cell_type": "markdown",
   "metadata": {},
   "source": [
    "As the data as already been generated, you can skip all the previous step and directly build the final artist count dataframe from the CSV file."
   ]
  },
  {
   "cell_type": "code",
   "execution_count": 66,
   "metadata": {
    "collapsed": false
   },
   "outputs": [],
   "source": [
    "#unique_artist_df = pd.read_csv('CSV_data/billboard_df-artist_count-test.csv', sep=';')\n",
    "#del unique_artist_df['Unnamed: 0']"
   ]
  },
  {
   "cell_type": "markdown",
   "metadata": {
    "collapsed": true
   },
   "source": [
    "To try to analyze the relation that exists between the number of tracks in the Billboard Hot 100 and the number of years of presence in the charts for each artist, we are going to use a linear regression. We will only consider the top 100 performers in the regression.\n",
    "\n",
    "To do that we need to import scikit-learn and numpy."
   ]
  },
  {
   "cell_type": "code",
   "execution_count": 12,
   "metadata": {
    "collapsed": true
   },
   "outputs": [],
   "source": [
    "import numpy as np\n",
    "from sklearn import linear_model"
   ]
  },
  {
   "cell_type": "code",
   "execution_count": 45,
   "metadata": {
    "collapsed": false
   },
   "outputs": [],
   "source": [
    "artists_top_100 = unique_artist_df[:101]\n",
    "artists_X_train = artists_top_100[['Counts']].values\n",
    "artists_Y_train = artists_top_100[['Years of presence']].values"
   ]
  },
  {
   "cell_type": "code",
   "execution_count": 46,
   "metadata": {
    "collapsed": false
   },
   "outputs": [],
   "source": [
    "# Create linear regression object\n",
    "regr = linear_model.LinearRegression()"
   ]
  },
  {
   "cell_type": "code",
   "execution_count": 50,
   "metadata": {
    "collapsed": false
   },
   "outputs": [
    {
     "name": "stdout",
     "output_type": "stream",
     "text": [
      "Coefficients: \n",
      "[[ 0.31592062]]\n",
      "Intercept: \n",
      "[ 3.32566998]\n"
     ]
    }
   ],
   "source": [
    "# Train the model using the training sets\n",
    "regr.fit(artists_X_train, artists_Y_train)\n",
    "\n",
    "# The coefficients\n",
    "print 'Coefficients: \\n', regr.coef_\n",
    "print 'Intercept: \\n', regr.intercept_"
   ]
  },
  {
   "cell_type": "code",
   "execution_count": null,
   "metadata": {
    "collapsed": true
   },
   "outputs": [],
   "source": []
  },
  {
   "cell_type": "code",
   "execution_count": null,
   "metadata": {
    "collapsed": true
   },
   "outputs": [],
   "source": []
  },
  {
   "cell_type": "code",
   "execution_count": null,
   "metadata": {
    "collapsed": true
   },
   "outputs": [],
   "source": []
  }
 ],
 "metadata": {
  "kernelspec": {
   "display_name": "Python 2",
   "language": "python",
   "name": "python2"
  },
  "language_info": {
   "codemirror_mode": {
    "name": "ipython",
    "version": 2
   },
   "file_extension": ".py",
   "mimetype": "text/x-python",
   "name": "python",
   "nbconvert_exporter": "python",
   "pygments_lexer": "ipython2",
   "version": "2.7.10"
  }
 },
 "nbformat": 4,
 "nbformat_minor": 0
}
