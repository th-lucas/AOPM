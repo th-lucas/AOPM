{
 "cells": [
  {
   "cell_type": "markdown",
   "metadata": {},
   "source": [
    "# Analysis of the popular music of the last 55 years"
   ]
  },
  {
   "cell_type": "markdown",
   "metadata": {},
   "source": [
    "### Data Wrangling"
   ]
  },
  {
   "cell_type": "markdown",
   "metadata": {},
   "source": [
    "##### Imports - API settings - Constants definition"
   ]
  },
  {
   "cell_type": "code",
   "execution_count": 64,
   "metadata": {
    "collapsed": false
   },
   "outputs": [],
   "source": [
    "from math import *\n",
    "import pandas as pd\n",
    "import matplotlib.pyplot as plt \n",
    "%matplotlib inline\n",
    "import scipy.stats as stats\n",
    "\n",
    "# EchoNest API\n",
    "from pyechonest import config\n",
    "from pyechonest import song\n",
    "from pyechonest import artist\n",
    "\n",
    "# LastFM API\n",
    "import pylast\n",
    "\n",
    "# Geopy\n",
    "from geopy.geocoders import Nominatim\n",
    "\n",
    "# Functions used in this notebook\n",
    "import dataStoryFunctions as dsf\n",
    "\n",
    "# some nicer colors\n",
    "COLORS = dsf.create_tableau20_RGB_code()"
   ]
  },
  {
   "cell_type": "code",
   "execution_count": 2,
   "metadata": {
    "collapsed": false
   },
   "outputs": [],
   "source": [
    "# Loads the credentials from the yaml file\n",
    "secrets = dsf.load_secrets()\n",
    "\n",
    "# Set ECHO_NEST_API_KEY value\n",
    "config.ECHO_NEST_API_KEY = secrets[\"echonest_api_key\"]\n",
    "\n",
    "# Set LastFM API_KEY and API_SECRET\n",
    "# Obtain yours from http://www.last.fm/api/account for Last.fm\n",
    "API_KEY = secrets[\"lastfm_api_key\"]\n",
    "API_SECRET = secrets[\"lastfm_api_secret\"]\n",
    "\n",
    "# In order to perform a write operation you need to authenticate yourself\n",
    "username = secrets[\"lastfm_username\"]\n",
    "password_hash = pylast.md5(secrets[\"lastfm_password_hash\"])\n",
    "\n",
    "last_fm_network = pylast.LastFMNetwork(api_key = API_KEY, api_secret =\n",
    "    API_SECRET, username = username, password_hash = password_hash)"
   ]
  },
  {
   "cell_type": "code",
   "execution_count": 3,
   "metadata": {
    "collapsed": true
   },
   "outputs": [],
   "source": [
    "# Define the starting and ending years \n",
    "start_year = 1960\n",
    "end_year = 2015"
   ]
  },
  {
   "cell_type": "markdown",
   "metadata": {},
   "source": [
    "##### Original dataframe creation\n",
    "\n",
    "The next steps take a lot of time to complete and have been done in the data processing and cleaning process.\n",
    "\n",
    "The final dataframe has been completed manually for the remaining missing data."
   ]
  },
  {
   "cell_type": "code",
   "execution_count": 4,
   "metadata": {
    "collapsed": true
   },
   "outputs": [],
   "source": [
    "# Creation of the global dataframe\n",
    "\n",
    "# billboard_df = dsf.create_billboard_df_from_CSV(start_year, years)\n",
    "# s = billboard_df['Title'].str.split('\" / \"').apply(pd.Series, 1).stack()\n",
    "# s.index = s.index.droplevel(-1)\n",
    "# s.name = 'Title'\n",
    "# del billboard_df['Title']\n",
    "# billboard_df = billboard_df.join(s)\n",
    "# billboard_df = billboard_df[['Num', 'Artist(s)', 'Title', 'Year']] "
   ]
  },
  {
   "cell_type": "code",
   "execution_count": 5,
   "metadata": {
    "collapsed": true
   },
   "outputs": [],
   "source": [
    "# Addition of new characteristics to the dataframe (artist location, audio summary...)\n",
    "\n",
    "# billboard_df_final = dsf.add_songs_characteristics_to_df(billboard_df, \n",
    "#                                                        'CSV_data/billboard_df-final.csv')"
   ]
  },
  {
   "cell_type": "markdown",
   "metadata": {},
   "source": [
    "The final dataframe has been built using the previous commands and completed manually in Excel. Everything has been saved in a CSV file which will be loaded in a pandas dataframe."
   ]
  },
  {
   "cell_type": "code",
   "execution_count": 8,
   "metadata": {
    "collapsed": false
   },
   "outputs": [],
   "source": [
    "#billboard_df_final = pd.read_csv('CSV_data/billboard_df-final.csv', sep=';')\n",
    "#del billboard_df_final['Colonne1']"
   ]
  },
  {
   "cell_type": "markdown",
   "metadata": {},
   "source": [
    "The country of origin of each artist is added at the end of every row of the dataframe. This will be used in one of the charts in the study."
   ]
  },
  {
   "cell_type": "code",
   "execution_count": 10,
   "metadata": {
    "collapsed": false
   },
   "outputs": [],
   "source": [
    "billboard_df_final = dsf.add_track_country_of_origin_to_DF(billboard_df_final)"
   ]
  },
  {
   "cell_type": "markdown",
   "metadata": {},
   "source": [
    "As the data as already been generated, you can skip all the previous step and directly build the final dataframe from the CSV file."
   ]
  },
  {
   "cell_type": "code",
   "execution_count": 11,
   "metadata": {
    "collapsed": true
   },
   "outputs": [],
   "source": [
    "#billboard_df_final = pd.read_csv('CSV_data/billboard_df-final.csv')\n",
    "#del billboard_df_final['Unnamed: 0']"
   ]
  },
  {
   "cell_type": "markdown",
   "metadata": {},
   "source": [
    "##### Number of songs by artists in the Billboard Hot 100 year-end\n",
    "\n",
    "The methodology used to create this dataframe is explained in the article related to the project."
   ]
  },
  {
   "cell_type": "code",
   "execution_count": 56,
   "metadata": {
    "collapsed": true
   },
   "outputs": [],
   "source": [
    "unique_artist_df = dsf.create_entries_by_unique_artist(billboard_df_final,\n",
    "                                                       start_year, end_year)"
   ]
  },
  {
   "cell_type": "markdown",
   "metadata": {},
   "source": [
    "Finally, we add one last feature to the dataframe groupping the number of tracks by artist. This feature is the dominance of the artist on given period. This is calculated by summing the number of tracks ranked in the charts for one particular artist during n years and dividing that number by the total number of tracks in the Billboard Hot 100 during those n years.\n",
    "\n",
    "In this study we have chosen to use rolling periods of 3 years."
   ]
  },
  {
   "cell_type": "code",
   "execution_count": 57,
   "metadata": {
    "collapsed": false
   },
   "outputs": [],
   "source": [
    "unique_artist_df = dsf.get_most_dominant_artist_per_years(unique_artist_df, start_year,\n",
    "                                                          end_year, 3, 1)"
   ]
  },
  {
   "cell_type": "markdown",
   "metadata": {},
   "source": [
    "For visualization purposes, we add an image of the artist to the dataframe (this is a url returned by the last fm API)."
   ]
  },
  {
   "cell_type": "code",
   "execution_count": 29,
   "metadata": {
    "collapsed": false
   },
   "outputs": [],
   "source": [
    "unique_artist_df = dsf.add_image_url_to_artist_count_df(unique_artist_df, last_fm_network)"
   ]
  },
  {
   "cell_type": "markdown",
   "metadata": {},
   "source": [
    "2 additional features are also added to the previous dataframe:\n",
    "- the artist 'hotttnesss'\n",
    "- the artist 'familiarity'"
   ]
  },
  {
   "cell_type": "code",
   "execution_count": 32,
   "metadata": {
    "collapsed": false
   },
   "outputs": [],
   "source": [
    "unique_artist_df = dsf.add_items_to_billboard_df_artist_count(unique_artist_df,\n",
    "                                                              [\"familiarity\", \"hotttnesss\"])"
   ]
  },
  {
   "cell_type": "markdown",
   "metadata": {},
   "source": [
    "As the data as already been generated, you can skip all the previous step and directly build the final artist count dataframe from the CSV file."
   ]
  },
  {
   "cell_type": "code",
   "execution_count": 13,
   "metadata": {
    "collapsed": false
   },
   "outputs": [],
   "source": [
    "#unique_artist_df = pd.read_csv('CSV_data/billboard_df-artist_count.csv', sep=';')\n",
    "#del unique_artist_df['Unnamed: 0']"
   ]
  },
  {
   "cell_type": "markdown",
   "metadata": {
    "collapsed": true
   },
   "source": [
    "##### Linear Regression\n",
    "\n",
    "To try to analyze the relation that exists between the number of tracks in the Billboard Hot 100 and the number of years of presence in the charts for each artist, we are going to use a linear regression. We will only consider the top 100 performers in the regression.\n",
    "\n",
    "To do that we need to import scikit-learn and numpy."
   ]
  },
  {
   "cell_type": "code",
   "execution_count": 12,
   "metadata": {
    "collapsed": true
   },
   "outputs": [],
   "source": [
    "import numpy as np\n",
    "from sklearn import linear_model"
   ]
  },
  {
   "cell_type": "code",
   "execution_count": 45,
   "metadata": {
    "collapsed": false
   },
   "outputs": [],
   "source": [
    "artists_top_100 = unique_artist_df[:101]\n",
    "artists_X_train = artists_top_100[['Counts']].values\n",
    "artists_Y_train = artists_top_100[['Years of presence']].values"
   ]
  },
  {
   "cell_type": "code",
   "execution_count": 46,
   "metadata": {
    "collapsed": false
   },
   "outputs": [],
   "source": [
    "# Create linear regression object\n",
    "regr = linear_model.LinearRegression()"
   ]
  },
  {
   "cell_type": "code",
   "execution_count": 50,
   "metadata": {
    "collapsed": false
   },
   "outputs": [
    {
     "name": "stdout",
     "output_type": "stream",
     "text": [
      "Coefficients: \n",
      "[[ 0.31592062]]\n",
      "Intercept: \n",
      "[ 3.32566998]\n"
     ]
    }
   ],
   "source": [
    "# Train the model using the training sets\n",
    "regr.fit(artists_X_train, artists_Y_train)\n",
    "\n",
    "# The coefficients\n",
    "print 'Coefficients: \\n', regr.coef_\n",
    "print 'Intercept: \\n', regr.intercept_"
   ]
  },
  {
   "cell_type": "markdown",
   "metadata": {},
   "source": [
    "##### Study of the acoustic attributes of the dataset\n",
    "\n",
    "While building our dataset (`bilboard_df_final`) in the first step of the project, a lot of acoustic metrics have been added to each song. These different features give interesting additional details about the tracks.\n",
    "\n",
    "I am particularly interested in one of them, which is the **valence** of each song. In the following steps this feature will be isolated and a statistical analysis will be performed to understand better what is the impact of this characteristic."
   ]
  },
  {
   "cell_type": "code",
   "execution_count": 62,
   "metadata": {
    "collapsed": false
   },
   "outputs": [],
   "source": [
    "valence_cleaned = billboard_df_final[\"valence\"].dropna()"
   ]
  },
  {
   "cell_type": "markdown",
   "metadata": {},
   "source": [
    "Let's first look at the distribution of the valence data:"
   ]
  },
  {
   "cell_type": "code",
   "execution_count": 95,
   "metadata": {
    "collapsed": false
   },
   "outputs": [
    {
     "data": {
      "image/png": "[encoded data removed]",
      "text/plain": [
       "<matplotlib.figure.Figure at 0x109dd8490>"
      ]
     },
     "metadata": {},
     "output_type": "display_data"
    }
   ],
   "source": [
    "# Plot\n",
    "plt.figure(figsize=(14, 5))\n",
    "plt.xlabel('Valence')\n",
    "plt.ylabel('Frequency')\n",
    "plt.title('Histogram of Valence')\n",
    "plt.grid(False)\n",
    "\n",
    "# Remove the plot frame lines\n",
    "ax = plt.subplot(111)\n",
    "ax.spines[\"top\"].set_visible(False)\n",
    "ax.spines[\"right\"].set_visible(False)\n",
    "\n",
    "# Ensure that the axis ticks only show up on the bottom and left of the plot.\n",
    "ax.get_xaxis().tick_bottom()\n",
    "ax.get_yaxis().tick_left()\n",
    "\n",
    "# Histogram of the valence data\n",
    "n, bins, patches = plt.hist(valence_cleaned, normed = False, color = COLORS[1], bins = 30)\n",
    "\n",
    "plt.show()"
   ]
  },
  {
   "cell_type": "markdown",
   "metadata": {},
   "source": [
    "The distribution does not seem to be normal. We observe a stage for 0.6 <= valence <= 0.85. The population presents less variance than a normal distribution. To illustrate those words, we will use a probability plot:"
   ]
  },
  {
   "cell_type": "code",
   "execution_count": 98,
   "metadata": {
    "collapsed": false
   },
   "outputs": [
    {
     "data": {
      "image/png": "[encoded data removed]",
      "text/plain": [
       "<matplotlib.figure.Figure at 0x109f656d0>"
      ]
     },
     "metadata": {},
     "output_type": "display_data"
    }
   ],
   "source": [
    "# Plot\n",
    "plt.figure(figsize=(10, 5))\n",
    "plt.grid(False)\n",
    "\n",
    "# Remove the plot frame lines\n",
    "ax = plt.subplot(111)\n",
    "ax.spines[\"top\"].set_visible(False)\n",
    "ax.spines[\"right\"].set_visible(False)\n",
    "\n",
    "# Ensure that the axis ticks only show up on the bottom and left of the plot.\n",
    "ax.get_xaxis().tick_bottom()\n",
    "ax.get_yaxis().tick_left()\n",
    "\n",
    "# Probability plot\n",
    "res = stats.probplot(valence_cleaned, dist = \"norm\", plot = plt)\n",
    "\n",
    "plt.show()"
   ]
  },
  {
   "cell_type": "markdown",
   "metadata": {},
   "source": [
    "This S shaped-curve indicates shorter than normal tails, i.e. less variance than expected. This confirms that the valence of the tracks is not normally distributed.\n",
    "\n",
    "Using the `describe` command, we are going to plot some interesting statistic figures about the valence data:"
   ]
  },
  {
   "cell_type": "code",
   "execution_count": 32,
   "metadata": {
    "collapsed": false
   },
   "outputs": [
    {
     "data": {
      "text/plain": [
       "count    5608.000000\n",
       "mean        0.603195\n",
       "std         0.237206\n",
       "min         0.000000\n",
       "25%         0.413064\n",
       "50%         0.624989\n",
       "75%         0.803726\n",
       "max         0.994769\n",
       "Name: valence, dtype: float64"
      ]
     },
     "execution_count": 32,
     "metadata": {},
     "output_type": "execute_result"
    }
   ],
   "source": [
    "valence_cleaned.describe()"
   ]
  },
  {
   "cell_type": "markdown",
   "metadata": {},
   "source": [
    "As a result, we have a mean value of approximatively 0.6 for the valence. Plus, as the median is equal to 0.625, there are as many tracks having a valence included between 0 and 0.625 and tracks having a valence included between 0.625 and 1. This means that globally the songs  of the *Billboard* Hot 100 sound **positive**.\n",
    "\n",
    "Is it the same thing for each decade?"
   ]
  },
  {
   "cell_type": "code",
   "execution_count": 115,
   "metadata": {
    "collapsed": false
   },
   "outputs": [],
   "source": [
    "valence_dict = dsf.get_valence_by_decade(billboard_df_final)"
   ]
  },
  {
   "cell_type": "code",
   "execution_count": 117,
   "metadata": {
    "collapsed": false
   },
   "outputs": [
    {
     "data": {
      "text/plain": [
       "<module 'dataStoryFunctions' from 'dataStoryFunctions.pyc'>"
      ]
     },
     "execution_count": 117,
     "metadata": {},
     "output_type": "execute_result"
    }
   ],
   "source": [
    "reload(dsf)"
   ]
  },
  {
   "cell_type": "code",
   "execution_count": 121,
   "metadata": {
    "collapsed": false
   },
   "outputs": [
    {
     "data": {
      "text/plain": [
       "5014    0.621944\n",
       "5015    0.476683\n",
       "5016    0.815656\n",
       "5017    0.472921\n",
       "5018    0.363891\n",
       "5019    0.451977\n",
       "5020    0.613371\n",
       "5021    0.711282\n",
       "5022    0.711784\n",
       "5023    0.775598\n",
       "5024    0.764540\n",
       "5025    0.762586\n",
       "5026    0.555367\n",
       "5027    0.742166\n",
       "5028    0.808297\n",
       "5029    0.931932\n",
       "5030    0.586654\n",
       "5031    0.409047\n",
       "5032    0.382912\n",
       "5033    0.392878\n",
       "5034    0.315350\n",
       "5035    0.554339\n",
       "5036    0.670051\n",
       "5037    0.757063\n",
       "5038    0.189880\n",
       "5039    0.265737\n",
       "5040    0.598124\n",
       "5041    0.692668\n",
       "5042    0.480489\n",
       "5043    0.556718\n",
       "          ...   \n",
       "5584    0.334422\n",
       "5585    0.593224\n",
       "5586    0.435729\n",
       "5587    0.822752\n",
       "5588    0.837845\n",
       "5589    0.435457\n",
       "5590    0.374755\n",
       "5591    0.141139\n",
       "5592    0.193992\n",
       "5593    0.729747\n",
       "5594    0.192860\n",
       "5595    0.457851\n",
       "5596    0.623736\n",
       "5597    0.770995\n",
       "5598    0.876035\n",
       "5599    0.600668\n",
       "5600    0.808841\n",
       "5601    0.364157\n",
       "5602    0.420640\n",
       "5603    0.622107\n",
       "5604    0.465266\n",
       "5605    0.844979\n",
       "5606    0.482043\n",
       "5607    0.331628\n",
       "5608    0.461513\n",
       "5609    0.114123\n",
       "5610    0.544282\n",
       "5611    0.395633\n",
       "5612    0.306762\n",
       "5613    0.290828\n",
       "Name: valence, dtype: float64"
      ]
     },
     "execution_count": 121,
     "metadata": {},
     "output_type": "execute_result"
    }
   ],
   "source": [
    "valence_dict[2010]"
   ]
  },
  {
   "cell_type": "code",
   "execution_count": 118,
   "metadata": {
    "collapsed": false
   },
   "outputs": [
    {
     "ename": "KeyError",
     "evalue": "0",
     "output_type": "error",
     "traceback": [
      "\u001b[0;31m---------------------------------------------------------------------------\u001b[0m",
      "\u001b[0;31mKeyError\u001b[0m                                  Traceback (most recent call last)",
      "\u001b[0;32m<ipython-input-118-b8415be74165>\u001b[0m in \u001b[0;36m<module>\u001b[0;34m()\u001b[0m\n\u001b[0;32m----> 1\u001b[0;31m \u001b[0mn\u001b[0m\u001b[0;34m,\u001b[0m \u001b[0mbins\u001b[0m\u001b[0;34m,\u001b[0m \u001b[0mpatches\u001b[0m \u001b[0;34m=\u001b[0m \u001b[0mplt\u001b[0m\u001b[0;34m.\u001b[0m\u001b[0mhist\u001b[0m\u001b[0;34m(\u001b[0m\u001b[0mvalence_dict\u001b[0m\u001b[0;34m[\u001b[0m\u001b[0;36m2010\u001b[0m\u001b[0;34m]\u001b[0m\u001b[0;34m,\u001b[0m \u001b[0mnormed\u001b[0m \u001b[0;34m=\u001b[0m \u001b[0mFalse\u001b[0m\u001b[0;34m,\u001b[0m \u001b[0mcolor\u001b[0m \u001b[0;34m=\u001b[0m \u001b[0mCOLORS\u001b[0m\u001b[0;34m[\u001b[0m\u001b[0;36m1\u001b[0m\u001b[0;34m]\u001b[0m\u001b[0;34m,\u001b[0m \u001b[0mbins\u001b[0m \u001b[0;34m=\u001b[0m \u001b[0;36m30\u001b[0m\u001b[0;34m)\u001b[0m\u001b[0;34m\u001b[0m\u001b[0m\n\u001b[0m\u001b[1;32m      2\u001b[0m \u001b[0;34m\u001b[0m\u001b[0m\n\u001b[1;32m      3\u001b[0m \u001b[0mplt\u001b[0m\u001b[0;34m.\u001b[0m\u001b[0mshow\u001b[0m\u001b[0;34m(\u001b[0m\u001b[0;34m)\u001b[0m\u001b[0;34m\u001b[0m\u001b[0m\n",
      "\u001b[0;32m//anaconda/lib/python2.7/site-packages/matplotlib/pyplot.pyc\u001b[0m in \u001b[0;36mhist\u001b[0;34m(x, bins, range, normed, weights, cumulative, bottom, histtype, align, orientation, rwidth, log, color, label, stacked, hold, **kwargs)\u001b[0m\n\u001b[1;32m   2894\u001b[0m                       \u001b[0mhisttype\u001b[0m\u001b[0;34m=\u001b[0m\u001b[0mhisttype\u001b[0m\u001b[0;34m,\u001b[0m \u001b[0malign\u001b[0m\u001b[0;34m=\u001b[0m\u001b[0malign\u001b[0m\u001b[0;34m,\u001b[0m \u001b[0morientation\u001b[0m\u001b[0;34m=\u001b[0m\u001b[0morientation\u001b[0m\u001b[0;34m,\u001b[0m\u001b[0;34m\u001b[0m\u001b[0m\n\u001b[1;32m   2895\u001b[0m                       \u001b[0mrwidth\u001b[0m\u001b[0;34m=\u001b[0m\u001b[0mrwidth\u001b[0m\u001b[0;34m,\u001b[0m \u001b[0mlog\u001b[0m\u001b[0;34m=\u001b[0m\u001b[0mlog\u001b[0m\u001b[0;34m,\u001b[0m \u001b[0mcolor\u001b[0m\u001b[0;34m=\u001b[0m\u001b[0mcolor\u001b[0m\u001b[0;34m,\u001b[0m \u001b[0mlabel\u001b[0m\u001b[0;34m=\u001b[0m\u001b[0mlabel\u001b[0m\u001b[0;34m,\u001b[0m\u001b[0;34m\u001b[0m\u001b[0m\n\u001b[0;32m-> 2896\u001b[0;31m                       stacked=stacked, **kwargs)\n\u001b[0m\u001b[1;32m   2897\u001b[0m         \u001b[0mdraw_if_interactive\u001b[0m\u001b[0;34m(\u001b[0m\u001b[0;34m)\u001b[0m\u001b[0;34m\u001b[0m\u001b[0m\n\u001b[1;32m   2898\u001b[0m     \u001b[0;32mfinally\u001b[0m\u001b[0;34m:\u001b[0m\u001b[0;34m\u001b[0m\u001b[0m\n",
      "\u001b[0;32m//anaconda/lib/python2.7/site-packages/matplotlib/axes/_axes.pyc\u001b[0m in \u001b[0;36mhist\u001b[0;34m(self, x, bins, range, normed, weights, cumulative, bottom, histtype, align, orientation, rwidth, log, color, label, stacked, **kwargs)\u001b[0m\n\u001b[1;32m   5602\u001b[0m         \u001b[0;31m# Massage 'x' for processing.\u001b[0m\u001b[0;34m\u001b[0m\u001b[0;34m\u001b[0m\u001b[0m\n\u001b[1;32m   5603\u001b[0m         \u001b[0;31m# NOTE: Be sure any changes here is also done below to 'weights'\u001b[0m\u001b[0;34m\u001b[0m\u001b[0;34m\u001b[0m\u001b[0m\n\u001b[0;32m-> 5604\u001b[0;31m         \u001b[0;32mif\u001b[0m \u001b[0misinstance\u001b[0m\u001b[0;34m(\u001b[0m\u001b[0mx\u001b[0m\u001b[0;34m,\u001b[0m \u001b[0mnp\u001b[0m\u001b[0;34m.\u001b[0m\u001b[0mndarray\u001b[0m\u001b[0;34m)\u001b[0m \u001b[0;32mor\u001b[0m \u001b[0;32mnot\u001b[0m \u001b[0miterable\u001b[0m\u001b[0;34m(\u001b[0m\u001b[0mx\u001b[0m\u001b[0;34m[\u001b[0m\u001b[0;36m0\u001b[0m\u001b[0;34m]\u001b[0m\u001b[0;34m)\u001b[0m\u001b[0;34m:\u001b[0m\u001b[0;34m\u001b[0m\u001b[0m\n\u001b[0m\u001b[1;32m   5605\u001b[0m             \u001b[0;31m# TODO: support masked arrays;\u001b[0m\u001b[0;34m\u001b[0m\u001b[0;34m\u001b[0m\u001b[0m\n\u001b[1;32m   5606\u001b[0m             \u001b[0mx\u001b[0m \u001b[0;34m=\u001b[0m \u001b[0mnp\u001b[0m\u001b[0;34m.\u001b[0m\u001b[0masarray\u001b[0m\u001b[0;34m(\u001b[0m\u001b[0mx\u001b[0m\u001b[0;34m)\u001b[0m\u001b[0;34m\u001b[0m\u001b[0m\n",
      "\u001b[0;32m//anaconda/lib/python2.7/site-packages/pandas/core/series.pyc\u001b[0m in \u001b[0;36m__getitem__\u001b[0;34m(self, key)\u001b[0m\n\u001b[1;32m    549\u001b[0m     \u001b[0;32mdef\u001b[0m \u001b[0m__getitem__\u001b[0m\u001b[0;34m(\u001b[0m\u001b[0mself\u001b[0m\u001b[0;34m,\u001b[0m \u001b[0mkey\u001b[0m\u001b[0;34m)\u001b[0m\u001b[0;34m:\u001b[0m\u001b[0;34m\u001b[0m\u001b[0m\n\u001b[1;32m    550\u001b[0m         \u001b[0;32mtry\u001b[0m\u001b[0;34m:\u001b[0m\u001b[0;34m\u001b[0m\u001b[0m\n\u001b[0;32m--> 551\u001b[0;31m             \u001b[0mresult\u001b[0m \u001b[0;34m=\u001b[0m \u001b[0mself\u001b[0m\u001b[0;34m.\u001b[0m\u001b[0mindex\u001b[0m\u001b[0;34m.\u001b[0m\u001b[0mget_value\u001b[0m\u001b[0;34m(\u001b[0m\u001b[0mself\u001b[0m\u001b[0;34m,\u001b[0m \u001b[0mkey\u001b[0m\u001b[0;34m)\u001b[0m\u001b[0;34m\u001b[0m\u001b[0m\n\u001b[0m\u001b[1;32m    552\u001b[0m \u001b[0;34m\u001b[0m\u001b[0m\n\u001b[1;32m    553\u001b[0m             \u001b[0;32mif\u001b[0m \u001b[0;32mnot\u001b[0m \u001b[0mnp\u001b[0m\u001b[0;34m.\u001b[0m\u001b[0misscalar\u001b[0m\u001b[0;34m(\u001b[0m\u001b[0mresult\u001b[0m\u001b[0;34m)\u001b[0m\u001b[0;34m:\u001b[0m\u001b[0;34m\u001b[0m\u001b[0m\n",
      "\u001b[0;32m//anaconda/lib/python2.7/site-packages/pandas/core/index.pyc\u001b[0m in \u001b[0;36mget_value\u001b[0;34m(self, series, key)\u001b[0m\n\u001b[1;32m   1721\u001b[0m \u001b[0;34m\u001b[0m\u001b[0m\n\u001b[1;32m   1722\u001b[0m         \u001b[0;32mtry\u001b[0m\u001b[0;34m:\u001b[0m\u001b[0;34m\u001b[0m\u001b[0m\n\u001b[0;32m-> 1723\u001b[0;31m             \u001b[0;32mreturn\u001b[0m \u001b[0mself\u001b[0m\u001b[0;34m.\u001b[0m\u001b[0m_engine\u001b[0m\u001b[0;34m.\u001b[0m\u001b[0mget_value\u001b[0m\u001b[0;34m(\u001b[0m\u001b[0ms\u001b[0m\u001b[0;34m,\u001b[0m \u001b[0mk\u001b[0m\u001b[0;34m)\u001b[0m\u001b[0;34m\u001b[0m\u001b[0m\n\u001b[0m\u001b[1;32m   1724\u001b[0m         \u001b[0;32mexcept\u001b[0m \u001b[0mKeyError\u001b[0m \u001b[0;32mas\u001b[0m \u001b[0me1\u001b[0m\u001b[0;34m:\u001b[0m\u001b[0;34m\u001b[0m\u001b[0m\n\u001b[1;32m   1725\u001b[0m             \u001b[0;32mif\u001b[0m \u001b[0mlen\u001b[0m\u001b[0;34m(\u001b[0m\u001b[0mself\u001b[0m\u001b[0;34m)\u001b[0m \u001b[0;34m>\u001b[0m \u001b[0;36m0\u001b[0m \u001b[0;32mand\u001b[0m \u001b[0mself\u001b[0m\u001b[0;34m.\u001b[0m\u001b[0minferred_type\u001b[0m \u001b[0;32min\u001b[0m \u001b[0;34m[\u001b[0m\u001b[0;34m'integer'\u001b[0m\u001b[0;34m,\u001b[0m\u001b[0;34m'boolean'\u001b[0m\u001b[0;34m]\u001b[0m\u001b[0;34m:\u001b[0m\u001b[0;34m\u001b[0m\u001b[0m\n",
      "\u001b[0;32mpandas/index.pyx\u001b[0m in \u001b[0;36mpandas.index.IndexEngine.get_value (pandas/index.c:3204)\u001b[0;34m()\u001b[0m\n",
      "\u001b[0;32mpandas/index.pyx\u001b[0m in \u001b[0;36mpandas.index.IndexEngine.get_value (pandas/index.c:2903)\u001b[0;34m()\u001b[0m\n",
      "\u001b[0;32mpandas/index.pyx\u001b[0m in \u001b[0;36mpandas.index.IndexEngine.get_loc (pandas/index.c:3843)\u001b[0;34m()\u001b[0m\n",
      "\u001b[0;32mpandas/hashtable.pyx\u001b[0m in \u001b[0;36mpandas.hashtable.Int64HashTable.get_item (pandas/hashtable.c:6525)\u001b[0;34m()\u001b[0m\n",
      "\u001b[0;32mpandas/hashtable.pyx\u001b[0m in \u001b[0;36mpandas.hashtable.Int64HashTable.get_item (pandas/hashtable.c:6463)\u001b[0;34m()\u001b[0m\n",
      "\u001b[0;31mKeyError\u001b[0m: 0"
     ]
    },
    {
     "data": {
      "image/png": "[encoded data removed]",
      "text/plain": [
       "<matplotlib.figure.Figure at 0x109a1d490>"
      ]
     },
     "metadata": {},
     "output_type": "display_data"
    }
   ],
   "source": [
    "n, bins, patches = plt.hist(valence_dict[2010], normed = False, color = COLORS[1], bins = 30)\n",
    "\n",
    "plt.show()"
   ]
  },
  {
   "cell_type": "code",
   "execution_count": null,
   "metadata": {
    "collapsed": true
   },
   "outputs": [],
   "source": []
  },
  {
   "cell_type": "code",
   "execution_count": null,
   "metadata": {
    "collapsed": true
   },
   "outputs": [],
   "source": []
  },
  {
   "cell_type": "code",
   "execution_count": null,
   "metadata": {
    "collapsed": true
   },
   "outputs": [],
   "source": []
  },
  {
   "cell_type": "code",
   "execution_count": null,
   "metadata": {
    "collapsed": true
   },
   "outputs": [],
   "source": []
  },
  {
   "cell_type": "markdown",
   "metadata": {},
   "source": [
    "###### Temp"
   ]
  },
  {
   "cell_type": "code",
   "execution_count": 58,
   "metadata": {
    "collapsed": false
   },
   "outputs": [
    {
     "data": {
      "text/plain": [
       "(array([-20.        , -19.49367089, -18.98734177, -18.48101266,\n",
       "        -17.97468354, -17.46835443, -16.96202532, -16.4556962 ,\n",
       "        -15.94936709, -15.44303797, -14.93670886, -14.43037975,\n",
       "        -13.92405063, -13.41772152, -12.91139241, -12.40506329,\n",
       "        -11.89873418, -11.39240506, -10.88607595, -10.37974684,\n",
       "         -9.87341772,  -9.36708861,  -8.86075949,  -8.35443038,\n",
       "         -7.84810127,  -7.34177215,  -6.83544304,  -6.32911392,\n",
       "         -5.82278481,  -5.3164557 ,  -4.81012658,  -4.30379747,\n",
       "         -3.79746835,  -3.29113924,  -2.78481013,  -2.27848101,\n",
       "         -1.7721519 ,  -1.26582278,  -0.75949367,  -0.25316456,\n",
       "          0.25316456,   0.75949367,   1.26582278,   1.7721519 ,\n",
       "          2.27848101,   2.78481013,   3.29113924,   3.79746835,\n",
       "          4.30379747,   4.81012658,   5.3164557 ,   5.82278481,\n",
       "          6.32911392,   6.83544304,   7.34177215,   7.84810127,\n",
       "          8.35443038,   8.86075949,   9.36708861,   9.87341772,\n",
       "         10.37974684,  10.88607595,  11.39240506,  11.89873418,\n",
       "         12.40506329,  12.91139241,  13.41772152,  13.92405063,\n",
       "         14.43037975,  14.93670886,  15.44303797,  15.94936709,\n",
       "         16.4556962 ,  16.96202532,  17.46835443,  17.97468354,\n",
       "         18.48101266,  18.98734177,  19.49367089,  20.        ]),\n",
       " array([ 0.05411986,  0.05455841,  0.05503679,  0.05555894,  0.05612924,\n",
       "         0.05675255,  0.05743428,  0.05818044,  0.05899771,  0.05989356,\n",
       "         0.0608763 ,  0.06195521,  0.06314066,  0.06444427,  0.06587903,\n",
       "         0.0674596 ,  0.06920245,  0.0711263 ,  0.07325249,  0.07560566,\n",
       "         0.07821457,  0.0811135 ,  0.08434426,  0.08795939,  0.0920273 ,\n",
       "         0.09664066,  0.10193041,  0.10808953,  0.11541459,  0.12438056,\n",
       "         0.13577973,  0.15098795,  0.17248314,  0.20483242,  0.25633664,\n",
       "         0.34049168,  0.47160966,  0.6424264 ,  0.80309612,  0.90778305,\n",
       "         0.95932996,  0.97908304,  0.98223884,  0.976821  ,  0.96692607,\n",
       "         0.95472487,  0.94142079,  0.9277043 ,  0.91397913,  0.90048192,\n",
       "         0.88734885,  0.87465463,  0.86243586,  0.85070555,  0.8394621 ,\n",
       "         0.82869504,  0.81838866,  0.80852435,  0.79908208,  0.79004132,\n",
       "         0.78138169,  0.77308331,  0.76512699,  0.75749441,  0.75016814,\n",
       "         0.74313168,  0.73636945,  0.72986675,  0.72360976,  0.71758546,\n",
       "         0.7117816 ,  0.70618669,  0.70078989,  0.69558103,  0.69055054,\n",
       "         0.68568939,  0.6809891 ,  0.67644168,  0.6720396 ,  0.66777574]))"
      ]
     },
     "execution_count": 58,
     "metadata": {},
     "output_type": "execute_result"
    },
    {
     "data": {
      "image/png": "[encoded data removed]",
      "text/plain": [
       "<matplotlib.figure.Figure at 0x10ab01590>"
      ]
     },
     "metadata": {},
     "output_type": "display_data"
    }
   ],
   "source": [
    "prob = stats.boxcox_normplot(subset_valence.dropna(), -20, 20, plot=plt)\n",
    "prob"
   ]
  },
  {
   "cell_type": "code",
   "execution_count": null,
   "metadata": {
    "collapsed": true
   },
   "outputs": [],
   "source": []
  },
  {
   "cell_type": "code",
   "execution_count": 38,
   "metadata": {
    "collapsed": false
   },
   "outputs": [],
   "source": [
    "subset_valence = billboard_df_final[billboard_df_final[\"valence\"] > 0][\"valence\"]\n",
    "test_valence = subset_valence.dropna().map(lambda x: log(x))"
   ]
  },
  {
   "cell_type": "code",
   "execution_count": 39,
   "metadata": {
    "collapsed": false
   },
   "outputs": [
    {
     "data": {
      "image/png": "[encoded data removed]",
      "text/plain": [
       "<matplotlib.figure.Figure at 0x10aa5ccd0>"
      ]
     },
     "metadata": {},
     "output_type": "display_data"
    }
   ],
   "source": [
    "n, bins, patches = plt.hist(test_valence, normed = True, \n",
    "                            color = COLOR2, bins = 30)"
   ]
  },
  {
   "cell_type": "code",
   "execution_count": 59,
   "metadata": {
    "collapsed": false
   },
   "outputs": [
    {
     "data": {
      "text/plain": [
       "1.0851936512647853"
      ]
     },
     "execution_count": 59,
     "metadata": {},
     "output_type": "execute_result"
    }
   ],
   "source": [
    "boxcox, maxlog = stats.boxcox(subset_valence.dropna())\n",
    "maxlog"
   ]
  },
  {
   "cell_type": "code",
   "execution_count": 45,
   "metadata": {
    "collapsed": false
   },
   "outputs": [
    {
     "data": {
      "image/png": "[encoded data removed]",
      "text/plain": [
       "<matplotlib.figure.Figure at 0x10a7deb90>"
      ]
     },
     "metadata": {},
     "output_type": "display_data"
    }
   ],
   "source": [
    "n, bins, patches = plt.hist(boxcox, normed = True, \n",
    "                            color = COLOR2, bins = 30)"
   ]
  },
  {
   "cell_type": "code",
   "execution_count": 46,
   "metadata": {
    "collapsed": false
   },
   "outputs": [
    {
     "data": {
      "text/plain": [
       "0    0.833641\n",
       "1    0.158728\n",
       "2    0.575020\n",
       "3    0.815120\n",
       "4    0.281412\n",
       "Name: valence, dtype: float64"
      ]
     },
     "execution_count": 46,
     "metadata": {},
     "output_type": "execute_result"
    }
   ],
   "source": [
    "subset_valence.head()"
   ]
  },
  {
   "cell_type": "code",
   "execution_count": null,
   "metadata": {
    "collapsed": true
   },
   "outputs": [],
   "source": []
  }
 ],
 "metadata": {
  "kernelspec": {
   "display_name": "Python 2",
   "language": "python",
   "name": "python2"
  },
  "language_info": {
   "codemirror_mode": {
    "name": "ipython",
    "version": 2
   },
   "file_extension": ".py",
   "mimetype": "text/x-python",
   "name": "python",
   "nbconvert_exporter": "python",
   "pygments_lexer": "ipython2",
   "version": "2.7.10"
  }
 },
 "nbformat": 4,
 "nbformat_minor": 0
}
